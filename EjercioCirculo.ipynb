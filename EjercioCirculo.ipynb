{
  "nbformat": 4,
  "nbformat_minor": 0,
  "metadata": {
    "colab": {
      "provenance": []
    },
    "kernelspec": {
      "name": "python3",
      "display_name": "Python 3"
    },
    "language_info": {
      "name": "python"
    }
  },
  "cells": [
    {
      "cell_type": "code",
      "source": [
        "import math\n",
        "\n",
        "class Circulo:\n",
        "    #metodo constructor\n",
        "    def __init__(self, radio):\n",
        "        self._radio = radio\n",
        "\n",
        "    @property\n",
        "    def radio(self):\n",
        "        return self._radio\n",
        "\n",
        "    @property\n",
        "    def area(self):\n",
        "        return math.pi * self._radio**2\n",
        "\n",
        "# Uso de la clase Circulo\n",
        "circulo1 = Circulo(8)\n",
        "\n",
        "# Imprime los resultados\n",
        "print(f\"Radio: {circulo1.radio}\")\n",
        "print(f\"Área: {circulo1.area:.2f}\")"
      ],
      "metadata": {
        "colab": {
          "base_uri": "https://localhost:8080/"
        },
        "id": "u12VExtUdYy-",
        "outputId": "4d14c349-9218-412e-9493-3d11c74efc4e"
      },
      "execution_count": 17,
      "outputs": [
        {
          "output_type": "stream",
          "name": "stdout",
          "text": [
            "Radio: 8\n",
            "Área: 201.06\n"
          ]
        }
      ]
    }
  ]
}